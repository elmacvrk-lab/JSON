{
 "cells": [
  {
   "cell_type": "markdown",
   "id": "f3ce9193",
   "metadata": {},
   "source": [
    "# Install and Load SQL Extension\n",
    "Install and load the ipython-sql extension to enable SQL support in Jupyter notebooks."
   ]
  },
  {
   "cell_type": "code",
   "execution_count": null,
   "id": "94c91dcf",
   "metadata": {},
   "outputs": [],
   "source": [
    "# Install ipython-sql if not already installed\n",
    "!pip install ipython-sql\n",
    "\n",
    "# Load the SQL extension\n",
    "%load_ext sql"
   ]
  },
  {
   "cell_type": "markdown",
   "id": "a7911071",
   "metadata": {},
   "source": [
    "# Connect to a Database\n",
    "Establish a connection to a local or remote SQL database using the %sql magic command."
   ]
  },
  {
   "cell_type": "code",
   "execution_count": null,
   "id": "dda265d3",
   "metadata": {},
   "outputs": [],
   "source": [
    "# Connect to an in-memory SQLite database\n",
    "%sql sqlite://"
   ]
  },
  {
   "cell_type": "markdown",
   "id": "1e185000",
   "metadata": {},
   "source": [
    "# Create Tables with SQL\n",
    "Write SQL statements to create tables in the connected database."
   ]
  },
  {
   "cell_type": "code",
   "execution_count": null,
   "id": "e5b90cf6",
   "metadata": {
    "vscode": {
     "languageId": "sql"
    }
   },
   "outputs": [],
   "source": [
    "-- Create a sample table called users\n",
    "CREATE TABLE users (\n",
    "    id INTEGER PRIMARY KEY,\n",
    "    name TEXT,\n",
    "    age INTEGER\n",
    ");"
   ]
  },
  {
   "cell_type": "markdown",
   "id": "44f3b71d",
   "metadata": {},
   "source": [
    "# Insert Data into Tables\n",
    "Use SQL INSERT statements to add sample data to the tables."
   ]
  },
  {
   "cell_type": "code",
   "execution_count": null,
   "id": "e49c4a86",
   "metadata": {
    "vscode": {
     "languageId": "sql"
    }
   },
   "outputs": [],
   "source": [
    "-- Insert sample data into users table\n",
    "INSERT INTO users (name, age) VALUES ('Alice', 30);\n",
    "INSERT INTO users (name, age) VALUES ('Bob', 25);\n",
    "INSERT INTO users (name, age) VALUES ('Charlie', 35);"
   ]
  },
  {
   "cell_type": "markdown",
   "id": "3ec29446",
   "metadata": {},
   "source": [
    "# Query Data from Tables\n",
    "Write SQL SELECT statements to retrieve data from the tables."
   ]
  },
  {
   "cell_type": "code",
   "execution_count": null,
   "id": "bdbe349b",
   "metadata": {
    "vscode": {
     "languageId": "sql"
    }
   },
   "outputs": [],
   "source": [
    "-- Select all users from the users table\n",
    "SELECT * FROM users;"
   ]
  },
  {
   "cell_type": "markdown",
   "id": "219e7b2b",
   "metadata": {},
   "source": [
    "# Display Query Results\n",
    "Show how query results are displayed in the notebook output pane. The results of the previous SELECT statement will be shown directly below the cell after execution."
   ]
  }
 ],
 "metadata": {
  "kernelspec": {
   "display_name": "Python 3",
   "language": "python",
   "name": "python3"
  },
  "language_info": {
   "name": "python",
   "version": "3.12.1"
  }
 },
 "nbformat": 4,
 "nbformat_minor": 5
}
