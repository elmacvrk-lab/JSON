{
 "cells": [
  {
   "cell_type": "markdown",
   "id": "1ea65df5",
   "metadata": {},
   "source": [
    "# JSON\n"
   ]
  },
  {
   "cell_type": "code",
   "execution_count": null,
   "id": "d5f4ef74",
   "metadata": {},
   "outputs": [],
   "source": [
    "INSERT INTO PEOPLE\n",
    "WITH base AS (\n",
    "    SELECT \n",
    "        DATA:id::number as ID,\n",
    "        DATA:timestamp::timestamp_ntz as DT,\n",
    "        a.VALUE:value1::string as SUBSCRIBER_INFO,\n",
    "\t\ta.VALUE:type::string as SUBS_TYPE,\n",
    "        a.VALUE:value2::string as SUBSCRIBER_DATA\n",
    "      \n",
    "    FROM DB.PEOPLE_SHAREJSON\n",
    "        \n",
    "  \n",
    "    ,LATERAL FLATTEN(INPUT=>DATA:data) a\n",
    "),\n",
    "SUBSCRIBER_DATA as (\n",
    "    SELECT \n",
    "        ID,\n",
    "        FORM_ID,\n",
    "        COALESCE(udf_initcap(Trim(PARSE_JSON(\"'name'\"):first::string)),'NA') as FIRSTNAME,\n",
    "        'NA' AS MIDDLENAME,\n",
    "        COALESCE(udf_initcap(Trim(PARSE_JSON(\"'name'\"):last::string)),'NA') as LASTNAME,\n",
    "        COALESCE(lower(Trim(\"'email'\")),'NA') AS EMAIL,\n",
    "       \n",
    "        FROM \n",
    "            (\n",
    "                SELECT \n",
    "                    ID,\n",
    "                    FORM_ID,\n",
    "                    SUBSCRIBER_DATA, \n",
    "                    SUBS_TYPE, \n",
    "                    DT AS SUBSCRIBE_DT\n",
    "                   \n",
    "                FROM \n",
    "                    base \n",
    "                WHERE SUBS_TYPE in ('name','email')\n",
    "                \n",
    "            )\n",
    "        PIVOT (MAX(SUBSCRIBER_DATA) FOR SUBS_TYPE IN \n",
    "                (\n",
    "                SELECT \n",
    "                    b.VALUE:type::string AS OUTPUT  \n",
    "                FROM \n",
    "                    DB.PEOPLE_SHAREJSON\n",
    "                ,LATERAL FLATTEN(INPUT=> DATA:data) b\n",
    "                WHERE trim(lower(b.VALUE:type::string)) IN ('name','email') \n",
    "                )\n",
    "            )\n",
    "        \n",
    "        QUALIFY ROW_NUMBER() OVER(PARTITION BY ID,FORM_ID,ACCOUNT_ID ORDER BY SUBSCRIBE_DT) = 1"
   ]
  }
 ],
 "metadata": {
  "language_info": {
   "name": "python"
  }
 },
 "nbformat": 4,
 "nbformat_minor": 5
}
